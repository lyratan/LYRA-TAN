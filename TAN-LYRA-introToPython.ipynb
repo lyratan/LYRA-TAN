{
 "cells": [
  {
   "cell_type": "code",
   "execution_count": null,
   "id": "8e3435ee",
   "metadata": {},
   "outputs": [],
   "source": [
    "ID Number:215786\n",
    "Surname:TAN\n",
    "Year and Course:2 BS ITE"
   ]
  },
  {
   "cell_type": "code",
   "execution_count": 18,
   "id": "b1927718",
   "metadata": {},
   "outputs": [],
   "source": [
    "def compute_sum(x,y,z):\n",
    "    sum = x + y + z\n",
    "    return sum\n",
    "def three_number_average(sum):\n",
    "    return sum/3\n",
    "    "
   ]
  },
  {
   "cell_type": "code",
   "execution_count": 21,
   "id": "0c15e7b7",
   "metadata": {},
   "outputs": [
    {
     "name": "stdout",
     "output_type": "stream",
     "text": [
      "Enter first number here: 2\n",
      "Enter second number here: 4\n",
      "Enter third number here: 6\n",
      "The average is 4.0.\n"
     ]
    }
   ],
   "source": [
    "x = float(input('Enter first number here: '))\n",
    "y = float(input('Enter second number here: '))\n",
    "z = float(input('Enter third number here: '))\n",
    "sum = compute_sum(x,y,z)\n",
    "avg = three_number_average(sum)\n",
    "print(\"The average is \",avg,'.',sep=\"\")"
   ]
  },
  {
   "cell_type": "code",
   "execution_count": null,
   "id": "1f65c6c0",
   "metadata": {},
   "outputs": [],
   "source": []
  }
 ],
 "metadata": {
  "kernelspec": {
   "display_name": "Python 3 (ipykernel)",
   "language": "python",
   "name": "python3"
  },
  "language_info": {
   "codemirror_mode": {
    "name": "ipython",
    "version": 3
   },
   "file_extension": ".py",
   "mimetype": "text/x-python",
   "name": "python",
   "nbconvert_exporter": "python",
   "pygments_lexer": "ipython3",
   "version": "3.9.13"
  }
 },
 "nbformat": 4,
 "nbformat_minor": 5
}
